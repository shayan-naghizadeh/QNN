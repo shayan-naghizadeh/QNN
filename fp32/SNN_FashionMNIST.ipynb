{
 "cells": [
  {
   "cell_type": "code",
   "execution_count": 1,
   "id": "34352236",
   "metadata": {},
   "outputs": [],
   "source": [
    "import copy, torch, torch.nn as nn, torchvision\n",
    "from torchvision import transforms\n",
    "from torch.utils.data import DataLoader\n",
    "import snntorch as snn\n",
    "from snntorch import spikegen\n",
    "from tqdm import tqdm"
   ]
  },
  {
   "cell_type": "markdown",
   "id": "534abcac",
   "metadata": {},
   "source": [
    "**device**"
   ]
  },
  {
   "cell_type": "code",
   "execution_count": 2,
   "id": "f57d1547",
   "metadata": {},
   "outputs": [
    {
     "data": {
      "text/plain": [
       "<torch._C.Generator at 0x2636cd23c90>"
      ]
     },
     "execution_count": 2,
     "metadata": {},
     "output_type": "execute_result"
    }
   ],
   "source": [
    "device = torch.device(\"cuda\")\n",
    "torch.manual_seed(0)\n"
   ]
  },
  {
   "cell_type": "markdown",
   "id": "f07935a7",
   "metadata": {},
   "source": [
    "**parameters**"
   ]
  },
  {
   "cell_type": "code",
   "execution_count": 3,
   "id": "791fa024",
   "metadata": {},
   "outputs": [],
   "source": [
    "num_in, num_hid, num_out = 784, 256, 10\n",
    "beta, T, bs, epochs, lr = 0.9, 60, 128, 5, 1e-3"
   ]
  },
  {
   "cell_type": "code",
   "execution_count": 4,
   "id": "41592d6b",
   "metadata": {},
   "outputs": [],
   "source": [
    "tr = transforms.Compose([transforms.ToTensor()])\n",
    "train_ds = torchvision.datasets.FashionMNIST(\"data\", True , download=True, transform=tr)\n",
    "test_ds  = torchvision.datasets.FashionMNIST(\"data\", False, download=True, transform=tr)\n",
    "train_ld = DataLoader(train_ds, bs, True , num_workers=2, pin_memory=True)\n",
    "test_ld  = DataLoader(test_ds , bs, False, num_workers=2, pin_memory=True)"
   ]
  },
  {
   "cell_type": "markdown",
   "id": "e508f4ba",
   "metadata": {},
   "source": [
    "**arch network**"
   ]
  },
  {
   "cell_type": "code",
   "execution_count": 5,
   "id": "4e68e3a2",
   "metadata": {},
   "outputs": [],
   "source": [
    "class SNN(nn.Module):\n",
    "    def __init__(self):\n",
    "        super().__init__()\n",
    "        self.fc1  = nn.Linear(num_in , num_hid, bias=False)\n",
    "        self.lif1 = snn.Leaky(beta=beta)\n",
    "        self.fc2  = nn.Linear(num_hid, num_out, bias=False)\n",
    "        self.lif2 = snn.Leaky(beta=beta)\n",
    "    def forward(self, x):\n",
    "        x = x.to(self.fc1.weight.dtype)\n",
    "        mem1 = self.lif1.init_leaky().to(dtype=x.dtype, device=x.device)\n",
    "        mem2 = self.lif2.init_leaky().to(dtype=x.dtype, device=x.device)\n",
    "        out  = []\n",
    "        for t in range(x.size(0)):\n",
    "            spk1, mem1 = self.lif1(self.fc1(x[t]), mem1)\n",
    "            spk1 = spk1.to(dtype=self.fc2.weight.dtype)\n",
    "            spk2, mem2 = self.lif2(self.fc2(spk1), mem2)\n",
    "            out.append(spk2)\n",
    "        return torch.stack(out)                      # [T,B,10]"
   ]
  },
  {
   "cell_type": "code",
   "execution_count": 7,
   "id": "7eb83764",
   "metadata": {},
   "outputs": [],
   "source": [
    "net = SNN().to(device)\n",
    "opt   = torch.optim.Adam(net.parameters(), lr=lr)\n",
    "lossf = nn.CrossEntropyLoss().to(device)"
   ]
  },
  {
   "cell_type": "markdown",
   "id": "0f8cea31",
   "metadata": {},
   "source": [
    "**train phase**"
   ]
  },
  {
   "cell_type": "code",
   "execution_count": 12,
   "id": "f561e141",
   "metadata": {},
   "outputs": [],
   "source": [
    "def train(net,train_ld,epochs):\n",
    "    for ep in range(1, epochs + 1):\n",
    "        net.train()\n",
    "        for imgs, lbls in tqdm(train_ld, desc=f\"train {ep}/{epochs}\"):\n",
    "            imgs = imgs.to(device).view(imgs.size(0), -1) * 5\n",
    "            lbls = lbls.to(device)\n",
    "            spk  = spikegen.rate(imgs, T).to(device)\n",
    "            loss = lossf(net(spk).sum(0), lbls)\n",
    "            opt.zero_grad(); loss.backward(); opt.step()"
   ]
  },
  {
   "cell_type": "code",
   "execution_count": 15,
   "id": "538f99d5",
   "metadata": {},
   "outputs": [
    {
     "name": "stderr",
     "output_type": "stream",
     "text": [
      "train 1/5: 100%|██████████| 469/469 [00:44<00:00, 10.52it/s]\n",
      "train 2/5: 100%|██████████| 469/469 [00:44<00:00, 10.56it/s]\n",
      "train 3/5: 100%|██████████| 469/469 [00:45<00:00, 10.41it/s]\n",
      "train 4/5: 100%|██████████| 469/469 [00:43<00:00, 10.69it/s]\n",
      "train 5/5: 100%|██████████| 469/469 [00:43<00:00, 10.78it/s]\n"
     ]
    }
   ],
   "source": [
    "train(net,train_ld,epochs)"
   ]
  },
  {
   "cell_type": "markdown",
   "id": "5f0b441e",
   "metadata": {},
   "source": [
    "**test phase**"
   ]
  },
  {
   "cell_type": "code",
   "execution_count": 20,
   "id": "62c4ea94",
   "metadata": {},
   "outputs": [],
   "source": [
    "def test(model,loader):\n",
    "    @torch.no_grad()\n",
    "    def eval_once(model, loader, dtype):\n",
    "        model.eval(); c = t = 0\n",
    "        for imgs, lbls in loader:\n",
    "            imgs = (imgs.to(device).view(imgs.size(0), -1) * 5).to(dtype)\n",
    "            spk  = spikegen.rate(imgs, T).to(dtype).to(device)\n",
    "            c   += (model(spk).sum(0).argmax(1) == lbls.to(device)).sum().item()\n",
    "            t   += lbls.size(0)\n",
    "        return 100 * c / t\n",
    "\n",
    "    acc32 = eval_once(net, test_ld, torch.float32)\n",
    "\n",
    "\n",
    "    net16 = SNN().to(device)\n",
    "    net16.load_state_dict(net.state_dict())\n",
    "    net16.half().eval()\n",
    "    acc16 = eval_once(net16, test_ld, torch.float16)\n",
    "\n",
    "    print(f\"Fashion-MNIST accuracy  FP32: {acc32:.2f}%\")\n",
    "    print(f\"Fashion-MNIST accuracy  FP16: {acc16:.2f}%\")"
   ]
  },
  {
   "cell_type": "code",
   "execution_count": 21,
   "id": "0c52182c",
   "metadata": {},
   "outputs": [
    {
     "name": "stdout",
     "output_type": "stream",
     "text": [
      "Fashion-MNIST accuracy  FP32: 82.83%\n",
      "Fashion-MNIST accuracy  FP16: 82.90%\n"
     ]
    }
   ],
   "source": [
    "test(net,test_ld)"
   ]
  }
 ],
 "metadata": {
  "kernelspec": {
   "display_name": "Python 3",
   "language": "python",
   "name": "python3"
  },
  "language_info": {
   "codemirror_mode": {
    "name": "ipython",
    "version": 3
   },
   "file_extension": ".py",
   "mimetype": "text/x-python",
   "name": "python",
   "nbconvert_exporter": "python",
   "pygments_lexer": "ipython3",
   "version": "3.12.4"
  }
 },
 "nbformat": 4,
 "nbformat_minor": 5
}
